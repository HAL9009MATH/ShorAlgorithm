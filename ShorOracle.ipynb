{
 "cells": [
  {
   "cell_type": "markdown",
   "id": "a5fb72ec",
   "metadata": {},
   "source": [
    "##  `Oracle for Shor's algorithm`"
   ]
  },
  {
   "cell_type": "markdown",
   "id": "7baeb67f",
   "metadata": {},
   "source": [
    "Shor's Algorithm solves the discrete logarithmic problem as follows: Given $a,N\\in\\Z_+$ such that $0<a<N$ then there exist $r\\in \\mathbb{Z}_+$ such that\n",
    "\n",
    "   $$ a^r\\equiv1 \\mod N$$\n",
    "We need to find the smallest $r$ that satisfies the above modular equation.\n",
    "In this notebook we will build the oracle for the quantum component of Shor's Algorithm, in other words we need to constract an operator that does the following:\n"
   ]
  },
  {
   "cell_type": "markdown",
   "id": "c4133525",
   "metadata": {},
   "source": [
    "We take two inputs $a,N\\in\\mathbb{N}$ such that $a<N$ and output the following:\n",
    "\n",
    "$$\n",
    "U\\ket{x}_{1}\\ket{y}_{n} =\n",
    "\\begin{array}{ll}\n",
    "    \\ket{x}_1\\ket{ay \\bmod N} & \\text{if } x=1 \\text{ and } 0 \\leq x < N \\\\\n",
    "    \\ket{x}_1\\ket{y}          & \\text{otherwise}\n",
    "\\end{array}\n",
    "$$\n",
    "We will try to implement this circuit following Figure 7 of Stéphane Beauregard, \"Circuit for Shor's algorithm using 2n+3 qubits\". Our $n$ is the biggest closesest integer to $2\\log(N)$ and we are going to use 3 ancillas as well."
   ]
  },
  {
   "cell_type": "code",
   "execution_count": 10,
   "id": "34ed4ea7",
   "metadata": {},
   "outputs": [],
   "source": [
    "from qiskit import QuantumCircuit, QuantumRegister, AncillaRegister\n",
    "from qiskit.circuit import Parameter\n",
    "from qiskit.quantum_info import Statevector, Operator\n",
    "from qiskit.circuit.library import QFT\n",
    "from qiskit.visualization import matplotlib as _  # Ensures Qiskit sets up its matplotlib styles\n",
    "import numpy as np"
   ]
  },
  {
   "cell_type": "code",
   "execution_count": 11,
   "id": "60daa9dc",
   "metadata": {},
   "outputs": [],
   "source": [
    "def precompute_modular_angles(N, a):\n",
    "\n",
    "    n = int(np.ceil(np.log2(N)))\n",
    "    \n",
    "    # Rotation angles for modular multiplication by a:\n",
    "    # a_pow_angles[i][j] ≈ (a * 2^i mod N) * π / 2^j\n",
    "    a_pow_angles = [\n",
    "        [(a * (1 << i) % N) * np.pi / (1 << j) for j in range(n + 1)]\n",
    "        for i in range(n + 1)\n",
    "    ]\n",
    "    \n",
    "    # Rotation angles for modular reduction by N:\n",
    "    # N_angles[j] ≈ N * π / 2^j\n",
    "    N_angles = [(N * np.pi) / (1 << j) for j in range(n + 1)]\n",
    "    \n",
    "    # Modular inverse of a modulo N\n",
    "    a_inv = pow(a, -1, N)\n",
    "    \n",
    "    # Rotation angles for modular multiplication by a^{-1}:\n",
    "    # a_inv_pow_angles[i][j] ≈ (a^{-1} * 2^i mod N) * π / 2^j\n",
    "    a_inv_pow_angles = [\n",
    "        [(a_inv * (1 << i) % N) * np.pi / (1 << j) for j in range(n + 1)]\n",
    "        for i in range(n + 1)\n",
    "    ]\n",
    "    \n",
    "    return a_pow_angles, N_angles, a_inv, a_inv_pow_angles"
   ]
  },
  {
   "cell_type": "markdown",
   "id": "12bbe379",
   "metadata": {},
   "source": [
    "This function computes classical modular multiplication using phase rotation, we need this to simulate arithmetic operations in the Fourier basis.\n",
    "\n",
    "Here’s what the function does:\n",
    "\n",
    "- `n`: Computes the number of bits needed to represent the modulus `N` (i.e., ⌈log₂(N)⌉).\n",
    "- `a_pow_angles[i][j]`: A 2D list of angles used to build phase rotations for modular multiplication by `a`. Each entry corresponds to:\n",
    "  \n",
    "  \n",
    "  $$\\theta_{i,j} = \\frac{a \\cdot 2^i \\bmod N}{2^j} \\cdot \\pi$$\n",
    "  \n",
    "\n",
    "  This gives the contribution of bit position `i` to a rotation of precision `2^{-j}`.\n",
    "\n",
    "- `N_angles[j]`: A list of angles used for conditional modular reduction. Each angle corresponds to:\n",
    "\n",
    "  \n",
    "  $$\\theta_j = \\frac{N \\cdot \\pi}{2^j}$$\n",
    "  \n",
    "\n",
    "- `a_inv`: The modular inverse of `a mod N`, used to reverse modular multiplication during uncomputation.\n",
    "- `a_inv_pow_angles[i][j]`: Analogous to `a_pow_angles`, but for modular multiplication by `a⁻¹ mod N`.\n",
    "\n",
    "All angles are scaled by powers of two and multiplied by π to match the required format for controlled phase rotations in quantum circuits."
   ]
  },
  {
   "cell_type": "code",
   "execution_count": 7,
   "id": "e0869379",
   "metadata": {},
   "outputs": [],
   "source": [
    "# We now define our Quantum Register setup \n",
    "\n",
    "# Control qubit: determines if modular multiplication is applied\n",
    "control_qubit = QuantumRegister(1, name=\"ctrl\")\n",
    "\n",
    "# Input register: holds |y⟩, the value to be multiplied by 'a' mod N\n",
    "input_reg = QuantumRegister(n, name=\"input\")\n",
    "\n",
    "# Output register: holds the result of the desired modular multiplication\n",
    "output_reg = QuantumRegister(n, name=\"output\")\n",
    "\n",
    "# Ancilla qubits: used for temporary computation (we will need 3 ancilla qubits)\n",
    "ancilla_reg = QuantumRegister(3, name=\"anc\")\n",
    "\n",
    "# Construct the circit that combines everything together\n",
    "mod_mult_circ = QuantumCircuit(control_qubit, input_reg, output_reg, ancilla_reg, name=\"mod_mult\")"
   ]
  },
  {
   "cell_type": "markdown",
   "id": "dca981ec",
   "metadata": {},
   "source": [
    "In this next block uses the Quantum Fourier Transform (QFT) to perform a modular subtraction of `N` from the combined quantum state stored across the `output`, `input`, and one ancilla qubit. The goal is to check whether the value $ y = \\texttt{[output,input]} $ is less than `N`.\n",
    "\n",
    "1. Apply the QFT to the combined register (`output`, `input`, and `ancilla[0]`) to work in the Fourier basis.\n",
    "2. Subtract `N` by applying carefully calibrated phase rotations to simulate \\( y - N \\).\n",
    "3. Perform the inverse QFT to return to the computational basis.\n",
    "4. Use a CNOT to mark `ancilla[2]` if an underflow occurred (i.e., if \\( y < N \\)).\n",
    "5. Add `N` back (using the same phase rotation trick) to restore the original value of `y`.\n",
    "\n",
    "At the end, the quantum state is untouched **except for `ancilla[2]`**, which now flags whether $y < N $. This flag is crucial for conditional logic used later in the modular multiplication circuit."
   ]
  },
  {
   "cell_type": "code",
   "execution_count": 12,
   "id": "01b8520a",
   "metadata": {},
   "outputs": [],
   "source": [
    "# Create list of qubits representing the full y register:\n",
    "# Concatenates: output_reg[0 to n-1], input_reg[0 to n-1], ancilla_reg[0]\n",
    "yreg = list(output_reg) + list(input_reg) + [ancilla_reg[0]]\n",
    "\n",
    "# Apply QFT to prepare for subtraction\n",
    "mod_mult_circ.compose(QFT(len(yreg)), qubits=yreg, inplace=True)\n",
    "\n",
    "# Subtract N by applying phase rotations (acts like y - N in Fourier basis)\n",
    "mod_mult_circ.p(-N * np.pi, ancilla_reg[0])\n",
    "for k in range(1, n + 1):\n",
    "    mod_mult_circ.p(-N * np.pi / (1 << k), output_reg[n - k])\n",
    "    mod_mult_circ.p(-N * np.pi / (1 << (n + k)), input_reg[n - k])\n",
    "\n",
    "# Inverse QFT to return to computational basis\n",
    "mod_mult_circ.compose(QFT(len(yreg)).inverse(), qubits=yreg, inplace=True)\n",
    "\n",
    "# Mark ancilla[2] = 1 iff underflow occurred (i.e., y < N)\n",
    "mod_mult_circ.cx(ancilla_reg[0], ancilla_reg[2])\n",
    "\n",
    "# Add N back to restore the state (but ancilla[2] remembers underflow)\n",
    "mod_mult_circ.compose(QFT(len(yreg)), qubits=yreg, inplace=True)\n",
    "mod_mult_circ.p(N * np.pi, ancilla_reg[0])\n",
    "for k in range(1, n + 1):\n",
    "    mod_mult_circ.p(N * np.pi / (1 << k), output_reg[n - k])\n",
    "    mod_mult_circ.p(N * np.pi / (1 << (n + k)), input_reg[n - k])\n",
    "mod_mult_circ.compose(QFT(len(yreg)).inverse(), qubits=yreg, inplace=True)"
   ]
  }
 ],
 "metadata": {
  "kernelspec": {
   "display_name": "erdos_spring_2025",
   "language": "python",
   "name": "python3"
  },
  "language_info": {
   "codemirror_mode": {
    "name": "ipython",
    "version": 3
   },
   "file_extension": ".py",
   "mimetype": "text/x-python",
   "name": "python",
   "nbconvert_exporter": "python",
   "pygments_lexer": "ipython3",
   "version": "3.12.8"
  }
 },
 "nbformat": 4,
 "nbformat_minor": 5
}
